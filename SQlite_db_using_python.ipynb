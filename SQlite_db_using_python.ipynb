{
 "cells": [
  {
   "cell_type": "code",
   "execution_count": 3,
   "id": "ce6c3132",
   "metadata": {},
   "outputs": [],
   "source": [
    "import numpy as np\n",
    "import pandas as pd\n",
    "import matplotlib.pyplot as plt\n",
    "\n"
   ]
  },
  {
   "cell_type": "code",
   "execution_count": 4,
   "id": "96a5c202",
   "metadata": {},
   "outputs": [],
   "source": [
    "import sqlite3"
   ]
  },
  {
   "cell_type": "code",
   "execution_count": 13,
   "id": "3d942fde",
   "metadata": {},
   "outputs": [],
   "source": [
    "# Create the sales table\n",
    "cursor.execute('''\n",
    "    CREATE TABLE IF NOT EXISTS sales (\n",
    "        id INTEGER PRIMARY KEY AUTOINCREMENT,\n",
    "        product TEXT,\n",
    "        quantity INTEGER,\n",
    "        price INTEGER\n",
    "    )\n",
    "''')\n",
    "\n",
    "# Sample data\n",
    "sample_data = [\n",
    "    (\"Laptop\", 100, 30000000),\n",
    "    (\"Headphones\", 57, 500000),\n",
    "    (\"Smartphones\", 87, 2500000),\n",
    "    (\"Speakers\", 39, 80000),\n",
    "    (\"Tablets\", 21, 500000),\n",
    "]\n",
    "\n",
    "# Insert data using parameterized query\n",
    "cursor.executemany(\"INSERT INTO sales (product, quantity, price) VALUES (?, ?, ?)\", sample_data)\n",
    "conn.commit()\n",
    "\n",
    "\n",
    "\n"
   ]
  },
  {
   "cell_type": "code",
   "execution_count": 14,
   "id": "7135b2fe",
   "metadata": {},
   "outputs": [],
   "source": [
    "conn = sqlite3.connect(\"sales.db\")\n",
    "cursor = conn.cursor()"
   ]
  },
  {
   "cell_type": "code",
   "execution_count": 15,
   "id": "396e5071",
   "metadata": {},
   "outputs": [],
   "source": [
    "# (Assumes a 'sales' table exists)\n",
    "query = \"\"\"\n",
    "SELECT \n",
    "    product, \n",
    "    SUM(quantity) AS total_qty, \n",
    "    SUM(quantity * price) AS revenue \n",
    "FROM sales \n",
    "GROUP BY product\n",
    "\"\"\"\n"
   ]
  },
  {
   "cell_type": "code",
   "execution_count": 16,
   "id": "fb13f63b",
   "metadata": {},
   "outputs": [],
   "source": [
    "\n",
    "# Execute query and load results into DataFrame\n",
    "df = pd.read_sql_query(query, conn)\n"
   ]
  },
  {
   "cell_type": "code",
   "execution_count": 17,
   "id": "7da2c852",
   "metadata": {},
   "outputs": [
    {
     "name": "stdout",
     "output_type": "stream",
     "text": [
      "Sales Summary:\n",
      "       product  total_qty     revenue\n",
      "0   Headphones         57    28500000\n",
      "1       Laptop        100  3000000000\n",
      "2  Smartphones         87   217500000\n",
      "3     Speakers         39     3120000\n",
      "4      Tablets         21    10500000\n"
     ]
    }
   ],
   "source": [
    "print(\"Sales Summary:\")\n",
    "print(df)\n"
   ]
  },
  {
   "cell_type": "code",
   "execution_count": 19,
   "id": "2db4d1ca",
   "metadata": {},
   "outputs": [
    {
     "data": {
      "image/png": "[encoded data removed]",
      "text/plain": [
       "<Figure size 432x288 with 1 Axes>"
      ]
     },
     "metadata": {
      "needs_background": "light"
     },
     "output_type": "display_data"
    }
   ],
   "source": [
    "df.plot(kind=\"bar\",x='product',y='revenue',legend=False)\n",
    "plt.title(\"Revenue by Product\")\n",
    "plt.ylabel(\"Revenue($)\")\n",
    "plt.xlabel(\"Product\")\n",
    "plt.show()"
   ]
  },
  {
   "cell_type": "code",
   "execution_count": 20,
   "id": "7eccd862",
   "metadata": {},
   "outputs": [
    {
     "data": {
      "text/plain": [
       "<Figure size 432x288 with 0 Axes>"
      ]
     },
     "metadata": {},
     "output_type": "display_data"
    }
   ],
   "source": [
    "plt.savefig(\"sales_chart.png\")"
   ]
  },
  {
   "cell_type": "code",
   "execution_count": 22,
   "id": "6a28755b",
   "metadata": {},
   "outputs": [],
   "source": [
    "q=\"\"\"\n",
    "select\n",
    "product,\n",
    "AVG(price) AS avg_price\n",
    "FROM sales\n",
    "GROUP BY product\n",
    "\"\"\"\n"
   ]
  },
  {
   "cell_type": "code",
   "execution_count": 23,
   "id": "f38265d9",
   "metadata": {},
   "outputs": [],
   "source": [
    "data = pd.read_sql_query(q, conn)"
   ]
  },
  {
   "cell_type": "code",
   "execution_count": 24,
   "id": "eac496b3",
   "metadata": {},
   "outputs": [
    {
     "name": "stdout",
     "output_type": "stream",
     "text": [
      "       product   avg_price\n",
      "0   Headphones    500000.0\n",
      "1       Laptop  30000000.0\n",
      "2  Smartphones   2500000.0\n",
      "3     Speakers     80000.0\n",
      "4      Tablets    500000.0\n"
     ]
    }
   ],
   "source": [
    "print(data)"
   ]
  },
  {
   "cell_type": "code",
   "execution_count": 25,
   "id": "3031816d",
   "metadata": {},
   "outputs": [
    {
     "name": "stdout",
     "output_type": "stream",
     "text": [
      "Top 3 products by revenue:\n",
      "       product  total_qty     revenue\n",
      "1       Laptop        100  3000000000\n",
      "2  Smartphones         87   217500000\n",
      "0   Headphones         57    28500000\n"
     ]
    }
   ],
   "source": [
    "top_products = df.sort_values(by='revenue', ascending=False).head(3)\n",
    "print(\"Top 3 products by revenue:\")\n",
    "print(top_products)\n"
   ]
  },
  {
   "cell_type": "code",
   "execution_count": 27,
   "id": "2c358d47",
   "metadata": {},
   "outputs": [],
   "source": [
    "df.to_csv(\"sales_summary.csv\", index=False)\n"
   ]
  },
  {
   "cell_type": "code",
   "execution_count": null,
   "id": "f02e8032",
   "metadata": {},
   "outputs": [],
   "source": []
  }
 ],
 "metadata": {
  "kernelspec": {
   "display_name": "Python 3 (ipykernel)",
   "language": "python",
   "name": "python3"
  },
  "language_info": {
   "codemirror_mode": {
    "name": "ipython",
    "version": 3
   },
   "file_extension": ".py",
   "mimetype": "text/x-python",
   "name": "python",
   "nbconvert_exporter": "python",
   "pygments_lexer": "ipython3",
   "version": "3.9.7"
  }
 },
 "nbformat": 4,
 "nbformat_minor": 5
}
